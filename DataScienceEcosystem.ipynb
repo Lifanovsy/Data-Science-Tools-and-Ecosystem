{
  "metadata": {
    "kernelspec": {
      "name": "python",
      "display_name": "Python (Pyodide)",
      "language": "python"
    },
    "language_info": {
      "codemirror_mode": {
        "name": "python",
        "version": 3
      },
      "file_extension": ".py",
      "mimetype": "text/x-python",
      "name": "python",
      "nbconvert_exporter": "python",
      "pygments_lexer": "ipython3",
      "version": "3.8"
    }
  },
  "nbformat_minor": 4,
  "nbformat": 4,
  "cells": [
    {
      "cell_type": "markdown",
      "source": "# Data Science Tools and Ecosystem",
      "metadata": {}
    },
    {
      "cell_type": "markdown",
      "source": "# In this notebook, Data Science Tools and Ecosystem are summarized.",
      "metadata": {}
    },
    {
      "cell_type": "markdown",
      "source": "# Popular Languages for Data Science\n\nSome of the popular languages that Data Scientists use are:\n\n1. Python\n2. R\n3. SQL\n4. Julia\n5. Scala",
      "metadata": {}
    },
    {
      "cell_type": "markdown",
      "source": "# Commonly Used Libraries in Data Science\n\nSome of the commonly used libraries by Data Scientists include:\n\n1. NumPy\n2. Pandas\n3. Matplotlib\n4. Scikit-learn\n5. TensorFlow\n",
      "metadata": {}
    },
    {
      "cell_type": "markdown",
      "source": "| Data Science Tools |\r\n| ------------------- |\r\n| Jupyter Notebooks   |\r\n| RStudio             |\r\n| VS Code             |\r\n Code\r\n",
      "metadata": {}
    },
    {
      "cell_type": "markdown",
      "source": "### Examples of Evaluating Arithmetic Expressions in Python\n\nBelow are a few examples of evaluating arithmetic expressions in Python.\n\n\n",
      "metadata": {}
    },
    {
      "cell_type": "code",
      "source": "# This is a simple arithmetic expression to multiply then add integers.\nresult = (3 * 4) + 5\nprint(result)  # Equation result: 17\n",
      "metadata": {
        "trusted": true
      },
      "outputs": [
        {
          "name": "stdout",
          "text": "17\n",
          "output_type": "stream"
        }
      ],
      "execution_count": 12
    },
    {
      "cell_type": "code",
      "source": "# This will convert 200 minutes to hours by dividing by 60.\nminutes = 200\nhours = minutes / 60\nrounded_hours = round(hours, 2) # Round a number to two decimal places \n\nprint(rounded_hours)  # Expected Output: 3.3333333333333335\n",
      "metadata": {
        "trusted": true
      },
      "outputs": [
        {
          "name": "stdout",
          "text": "3.33\n",
          "output_type": "stream"
        }
      ],
      "execution_count": 13
    },
    {
      "cell_type": "markdown",
      "source": "**Objectives:**\r\n\r\n- Explore widely used programming languages in the field of Data Science.\r\n- Identify and understand key libraries commonly employed by Data Scientists.\r\n- Discover essential open-source tools within the Data Science ecosystem.\r\n- Practice evaluating arithmetic expressions and performing unit conversions using Python.\r\n- Gain insights into fundamental concepts related to data manipulation and visualization in Jupyter Notebooks.\r\n",
      "metadata": {}
    },
    {
      "cell_type": "markdown",
      "source": "## Author\r\nYegor Lifanov\r\n",
      "metadata": {}
    }
  ]
}